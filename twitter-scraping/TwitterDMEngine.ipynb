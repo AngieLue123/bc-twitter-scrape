{
 "cells": [
  {
   "cell_type": "code",
   "execution_count": 121,
   "metadata": {
    "scrolled": true
   },
   "outputs": [
    {
     "name": "stdout",
     "output_type": "stream",
     "text": [
      "Requirement already satisfied: tweepy in /Library/Frameworks/Python.framework/Versions/3.10/lib/python3.10/site-packages (4.10.0)\n",
      "Requirement already satisfied: requests<3,>=2.27.0 in /Library/Frameworks/Python.framework/Versions/3.10/lib/python3.10/site-packages (from tweepy) (2.27.1)\n",
      "Requirement already satisfied: oauthlib<4,>=3.2.0 in /Library/Frameworks/Python.framework/Versions/3.10/lib/python3.10/site-packages (from tweepy) (3.2.0)\n",
      "Requirement already satisfied: requests-oauthlib<2,>=1.2.0 in /Library/Frameworks/Python.framework/Versions/3.10/lib/python3.10/site-packages (from tweepy) (1.3.1)\n",
      "Requirement already satisfied: idna<4,>=2.5 in /Library/Frameworks/Python.framework/Versions/3.10/lib/python3.10/site-packages (from requests<3,>=2.27.0->tweepy) (3.3)\n",
      "Requirement already satisfied: urllib3<1.27,>=1.21.1 in /Library/Frameworks/Python.framework/Versions/3.10/lib/python3.10/site-packages (from requests<3,>=2.27.0->tweepy) (1.26.9)\n",
      "Requirement already satisfied: certifi>=2017.4.17 in /Library/Frameworks/Python.framework/Versions/3.10/lib/python3.10/site-packages (from requests<3,>=2.27.0->tweepy) (2022.5.18.1)\n",
      "Requirement already satisfied: charset-normalizer~=2.0.0 in /Library/Frameworks/Python.framework/Versions/3.10/lib/python3.10/site-packages (from requests<3,>=2.27.0->tweepy) (2.0.12)\n",
      "\u001b[33mWARNING: You are using pip version 22.0.4; however, version 22.1.2 is available.\n",
      "You should consider upgrading via the '/usr/local/bin/python3 -m pip install --upgrade pip' command.\u001b[0m\u001b[33m\n",
      "\u001b[0mNote: you may need to restart the kernel to use updated packages.\n"
     ]
    }
   ],
   "source": [
    "%pip install tweepy"
   ]
  },
  {
   "cell_type": "code",
   "execution_count": 122,
   "metadata": {},
   "outputs": [],
   "source": [
    "import tweepy"
   ]
  },
  {
   "cell_type": "code",
   "execution_count": 123,
   "metadata": {},
   "outputs": [],
   "source": [
    "# your bearer token\n",
    "MY_BEARER_TOKEN = \"AAAAAAAAAAAAAAAAAAAAAHrvegEAAAAAkrgD7m5CSOFHJWrHjIPK0%2FtEYck%3D7IAtGK85T9ORIgSdehuj48oOthjGv9P9Y6pHtdc2UAahAoEwZa\"\n",
    "consumer_key = \"HxLcIPV6AvhzhTXt5T3ZnhL9M\"\n",
    "consumer_secret = \"co3BpC8EhCtRJ2LSUGevTcBrAs1q6Vnl2SD9Xx190FtdbponHs\"\n",
    "access_token = \"1251006517299408896-lpEYU4uSYCYRPuAKBaITLHPU0Ck5EN\"\n",
    "access_token_secret = \"nSK2rt6ChlVwiO8OZaglQAtrlkzL9rHZoptqnIsEz1b4f\""
   ]
  },
  {
   "cell_type": "code",
   "execution_count": 124,
   "metadata": {},
   "outputs": [
    {
     "name": "stdout",
     "output_type": "stream",
     "text": [
      "Error during authentication\n"
     ]
    }
   ],
   "source": [
    "# create your client \n",
    "client = tweepy.Client(bearer_token=MY_BEARER_TOKEN)\n",
    "\n",
    "# authorization of consumer key and consumer secret\n",
    "auth = tweepy.OAuthHandler(consumer_key, consumer_secret)\n",
    "  \n",
    "# set access to user's access key and access secret \n",
    "auth.set_access_token(access_token, access_token_secret)\n",
    "  \n",
    "# calling the api \n",
    "api = tweepy.API(auth)\n",
    "try:\n",
    "    api.verify_credentials()\n",
    "    print(\"Authentication OK\")\n",
    "except:\n",
    "    print(\"Error during authentication\")"
   ]
  },
  {
   "cell_type": "code",
   "execution_count": 125,
   "metadata": {},
   "outputs": [],
   "source": [
    "# query to search for tweets\n",
    "query = \"#soccer\"\n",
    "\n",
    "# get tweets from the API\n",
    "tweets = client.search_recent_tweets(query=query,\n",
    "                                     tweet_fields = [\"created_at\", \"text\", \"source\"],\n",
    "                                     user_fields = [\"name\", \"username\", \"location\", \"verified\", \"description\"],\n",
    "                                     max_results = 50,\n",
    "                                     expansions='author_id'\n",
    "                                     )"
   ]
  },
  {
   "cell_type": "code",
   "execution_count": 126,
   "metadata": {},
   "outputs": [],
   "source": [
    "# get user ids from tweets\n",
    "users = []\n",
    "for t in tweets.data:\n",
    "    t_dict = dict(t)\n",
    "    users.append(t.author_id)"
   ]
  },
  {
   "cell_type": "code",
   "execution_count": 127,
   "metadata": {},
   "outputs": [
    {
     "data": {
      "text/plain": [
       "[1196369711904280576,\n",
       " 1321857598690349062,\n",
       " 1168169980921339905,\n",
       " 143350032,\n",
       " 1503110673106026496,\n",
       " 117866562,\n",
       " 973341239738122240,\n",
       " 3129315737,\n",
       " 973341239738122240,\n",
       " 1528624113925107712,\n",
       " 471747016,\n",
       " 1453838456203923462,\n",
       " 831244873,\n",
       " 1519662171906617345,\n",
       " 313190103,\n",
       " 1347294750303350784,\n",
       " 1380760185325678601,\n",
       " 315423812,\n",
       " 2211455190,\n",
       " 315423812,\n",
       " 315423812,\n",
       " 315423812,\n",
       " 315423812,\n",
       " 315423812,\n",
       " 258311024,\n",
       " 1196055398941417474,\n",
       " 879534935056326656,\n",
       " 973341239738122240,\n",
       " 1279547311559856128,\n",
       " 790088507486113793,\n",
       " 133220868,\n",
       " 134157188,\n",
       " 973341239738122240,\n",
       " 615036978,\n",
       " 1435253287947735043,\n",
       " 3129315737,\n",
       " 878275680,\n",
       " 1446762622020423683,\n",
       " 891636633841180672,\n",
       " 568225921,\n",
       " 1030799058372194304,\n",
       " 2903489210,\n",
       " 3129315737,\n",
       " 560241089,\n",
       " 2439979878,\n",
       " 1446080218725240833,\n",
       " 285848038,\n",
       " 771987241329528832,\n",
       " 70056452,\n",
       " 271120028]"
      ]
     },
     "execution_count": 127,
     "metadata": {},
     "output_type": "execute_result"
    }
   ],
   "source": [
    "users"
   ]
  },
  {
   "cell_type": "code",
   "execution_count": 128,
   "metadata": {},
   "outputs": [],
   "source": [
    "# get user ids from username if needed\n",
    "\n",
    "# user = api.get_user(screen_name=\"ivory_tees\")\n",
    "# # ID of the recipient\n",
    "# recipient_id = user.id\n",
    "# recipient_id"
   ]
  },
  {
   "cell_type": "code",
   "execution_count": 129,
   "metadata": {},
   "outputs": [],
   "source": [
    "# text to be sent\n",
    "# text = \"Hi! My name is Jayden, and I’m part of an undergrad research group at UCLA focused on understanding cloud computing infrastructure priorities, trends, and marketing needs for AI developers and business focused clients. If you have career experience in these fields or know anyone who does, we would greatly appreciate it if you could spend 5 minutes completing our quick survey linked here: https://bit.ly/AICloudSurvey. All questions are optional so please feel free to skip any that do not apply. Participants can win free $30 Amazon gift cards, and will receive a summary of the survey findings.\"\n",
    "text = \"Hi\"\n",
    "# # sending the direct message\n",
    "# direct_message = api.send_direct_message(recipient_id, text)\n",
    "  \n",
    "# # printing the text of the sent direct message\n",
    "# print(direct_message.message_create['message_data']['text'])"
   ]
  },
  {
   "cell_type": "code",
   "execution_count": 130,
   "metadata": {},
   "outputs": [],
   "source": [
    "# direct_message.message_create"
   ]
  },
  {
   "cell_type": "code",
   "execution_count": 131,
   "metadata": {},
   "outputs": [
    {
     "name": "stdout",
     "output_type": "stream",
     "text": [
      "unable to send\n",
      "unable to send\n",
      "unable to send\n",
      "unable to send\n",
      "unable to send\n",
      "unable to send\n",
      "unable to send\n",
      "unable to send\n",
      "unable to send\n",
      "unable to send\n",
      "unable to send\n",
      "unable to send\n",
      "unable to send\n",
      "unable to send\n",
      "unable to send\n",
      "unable to send\n",
      "unable to send\n",
      "unable to send\n",
      "unable to send\n",
      "unable to send\n",
      "unable to send\n",
      "unable to send\n",
      "unable to send\n",
      "unable to send\n",
      "unable to send\n",
      "unable to send\n",
      "unable to send\n",
      "unable to send\n",
      "unable to send\n",
      "unable to send\n",
      "unable to send\n",
      "unable to send\n",
      "unable to send\n",
      "unable to send\n",
      "unable to send\n",
      "unable to send\n",
      "unable to send\n",
      "unable to send\n",
      "unable to send\n",
      "unable to send\n",
      "unable to send\n",
      "unable to send\n",
      "unable to send\n",
      "unable to send\n",
      "unable to send\n",
      "unable to send\n",
      "unable to send\n",
      "unable to send\n",
      "unable to send\n",
      "unable to send\n",
      "attempting to send 50 messages\n",
      "successfully sent 0 messages\n"
     ]
    }
   ],
   "source": [
    "# sending the direct message\n",
    "n_attempted = 0\n",
    "n_failed = 0\n",
    "for recipient_id in users:\n",
    "    try:\n",
    "        n_attempted += 1\n",
    "        msg = api.send_direct_message(recipient_id, text)\n",
    "    except:\n",
    "        n_failed += 1\n",
    "        print('unable to send')\n",
    "\n",
    "print(f'attempting to send {n_attempted} messages')\n",
    "print(f'successfully sent {n_attempted-n_failed} messages')\n",
    "    "
   ]
  }
 ],
 "metadata": {
  "kernelspec": {
   "display_name": "Python 3.10.4 64-bit",
   "language": "python",
   "name": "python3"
  },
  "language_info": {
   "codemirror_mode": {
    "name": "ipython",
    "version": 3
   },
   "file_extension": ".py",
   "mimetype": "text/x-python",
   "name": "python",
   "nbconvert_exporter": "python",
   "pygments_lexer": "ipython3",
   "version": "3.10.4"
  },
  "vscode": {
   "interpreter": {
    "hash": "aee8b7b246df8f9039afb4144a1f6fd8d2ca17a180786b69acc140d282b71a49"
   }
  }
 },
 "nbformat": 4,
 "nbformat_minor": 4
}
